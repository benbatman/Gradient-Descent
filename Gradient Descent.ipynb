{
 "cells": [
  {
   "cell_type": "code",
   "execution_count": 6,
   "id": "b0968e12",
   "metadata": {},
   "outputs": [],
   "source": [
    "#Function to perform gradient descent\n",
    "\n",
    "#Idea behind gradient descent is to repeatedly take small steps \n",
    "#towards the gradient\n",
    "\n",
    "#Solution is where df(x)/dx = 0 (minimized)\n",
    "\n",
    "#General gradient descent formula:\n",
    "#P_n+1 = P_n - eta*del(P_n)\n",
    "\n",
    "import matplotlib.pyplot as plt\n",
    "\n",
    "#We want to minimize function1 (loss function)\n",
    "def function1(x):\n",
    "    return x**2 + 2*x + 5\n",
    "\n",
    "def gradient_function1(x):\n",
    "    return 2*x + 2\n",
    "\n",
    "\n",
    "def grad_desc(initial_weight, gradient, eta, num_epochs):\n",
    "    L = [] #empty list to store loss at each iteration\n",
    "    x = initial_weight #initializing x to the given weight\n",
    "    \n",
    "    for _ in range(num_epochs):\n",
    "        x = x - eta * (2*x + 2)\n",
    "        L.append(function1(x))\n",
    "        \n",
    "    return L, x"
   ]
  },
  {
   "cell_type": "code",
   "execution_count": 16,
   "id": "5b7d15b5",
   "metadata": {},
   "outputs": [
    {
     "data": {
      "image/png": "[encoded data removed]",
      "text/plain": [
       "<Figure size 432x288 with 1 Axes>"
      ]
     },
     "metadata": {
      "needs_background": "light"
     },
     "output_type": "display_data"
    },
    {
     "name": "stdout",
     "output_type": "stream",
     "text": [
      "End value of L: 4.0 x -0.999999997962964\n"
     ]
    }
   ],
   "source": [
    "loss_history, result = grad_desc(9, gradient_function1, 0.1, 100)\n",
    "plt.plot(loss_history)\n",
    "plt.show()\n",
    "print(\"End value of L:\", loss_history[-1], \"x\", result)"
   ]
  },
  {
   "cell_type": "code",
   "execution_count": 19,
   "id": "64e97d52",
   "metadata": {},
   "outputs": [
    {
     "data": {
      "text/plain": [
       "4"
      ]
     },
     "execution_count": 19,
     "metadata": {},
     "output_type": "execute_result"
    }
   ],
   "source": [
    "#Common sense check\n",
    "function1(-1)"
   ]
  },
  {
   "cell_type": "code",
   "execution_count": 20,
   "id": "b126661e",
   "metadata": {},
   "outputs": [
    {
     "data": {
      "text/plain": [
       "0"
      ]
     },
     "execution_count": 20,
     "metadata": {},
     "output_type": "execute_result"
    }
   ],
   "source": [
    "gradient_function1(-1)"
   ]
  },
  {
   "cell_type": "code",
   "execution_count": null,
   "id": "2e4b070c",
   "metadata": {},
   "outputs": [],
   "source": []
  }
 ],
 "metadata": {
  "kernelspec": {
   "display_name": "Python 3",
   "language": "python",
   "name": "python3"
  },
  "language_info": {
   "codemirror_mode": {
    "name": "ipython",
    "version": 3
   },
   "file_extension": ".py",
   "mimetype": "text/x-python",
   "name": "python",
   "nbconvert_exporter": "python",
   "pygments_lexer": "ipython3",
   "version": "3.8.8"
  }
 },
 "nbformat": 4,
 "nbformat_minor": 5
}
